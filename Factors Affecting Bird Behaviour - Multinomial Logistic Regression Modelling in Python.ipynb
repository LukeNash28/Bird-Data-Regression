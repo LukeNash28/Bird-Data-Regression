{
 "cells": [
  {
   "cell_type": "markdown",
   "id": "d2e3eee5",
   "metadata": {},
   "source": [
    "## Factors Affecting Bird Behaviour - Multinomial Logistic Regression Modelling in Python"
   ]
  },
  {
   "cell_type": "markdown",
   "id": "9e2c1f11",
   "metadata": {},
   "source": [
    "***NOTE: In order for this notebook to work you will need to replace the file paths Path and Path2 with the file directories on your device of the CSV files downloaded from the Bird Regression Data GitHub repository.***\n",
    "\n",
    "### Introduction\n",
    "\n",
    "As part of a university field trip to the Silverdale Area of Outstanding Natural Beauty, our cohort collected data about bird behaviour at two sites at various times of day. You can view the data itself in the CSV files in the [Bird Data Regression repository on my GitHub](https://github.com/LukeNash28/Bird-Data-Regression) along with a README with more information.\n",
    "\n",
    "Given the data I had available I decided to assess whether the location or the time affected bird behaviour activity. I decided to build a multinomial logistic regression model, with Location and Time predicting the Activity.\n",
    "\n",
    "### Data Preparation\n",
    "\n",
    "First let's import the packages and functions we need to complete this analysis."
   ]
  },
  {
   "cell_type": "code",
   "execution_count": 40,
   "id": "73e5d27b",
   "metadata": {},
   "outputs": [],
   "source": [
    "import pandas as pd\n",
    "import numpy as np\n",
    "import requests\n",
    "import sklearn\n",
    "import matplotlib.pyplot as plt\n",
    "import seaborn as sns\n",
    "import datetime as dt\n",
    "\n",
    "from numpy import mean\n",
    "from numpy import std\n",
    "from sklearn.model_selection import cross_val_score\n",
    "from sklearn.model_selection import RepeatedStratifiedKFold\n",
    "from sklearn.linear_model import LogisticRegression\n",
    "from sklearn.model_selection import train_test_split\n",
    "\n",
    "sns.set(style=\"white\")\n",
    "sns.set(style=\"whitegrid\", color_codes=\"True\")"
   ]
  },
  {
   "cell_type": "markdown",
   "id": "f32a07be",
   "metadata": {},
   "source": [
    "Now let's import the data."
   ]
  },
  {
   "cell_type": "code",
   "execution_count": 4,
   "id": "4de1eba6",
   "metadata": {},
   "outputs": [
    {
     "name": "stdout",
     "output_type": "stream",
     "text": [
      "     Helper   Time     Period Location  \\\n",
      "0         1  12:27     Midday       LM   \n",
      "1         2  12:27     Midday       LM   \n",
      "2         3  12:12     Midday       LM   \n",
      "3         4  11:55     Midday       LM   \n",
      "4         5  12:00     Midday       LM   \n",
      "..      ...    ...        ...      ...   \n",
      "511     512  12:11     Midday       EW   \n",
      "512     513  15:28  Afternoon       EW   \n",
      "513     514  15:20  Afternoon       EW   \n",
      "514     515  15:40  Afternoon       EW   \n",
      "515     516  12:10     Midday       EW   \n",
      "\n",
      "    Species (common name as in the species list in the module guide - p25)  \\\n",
      "0                                              Bittern                       \n",
      "1                                              Bittern                       \n",
      "2                                              Bittern                       \n",
      "3                                              Bittern                       \n",
      "4                                              Bittern                       \n",
      "..                                                 ...                       \n",
      "511                                               Wren                       \n",
      "512                                               Wren                       \n",
      "513                                               Wren                       \n",
      "514                                               Wren                       \n",
      "515                                               Wren                       \n",
      "\n",
      "            Family Activity (travelling; foraging; resting) Unnamed: 7  \n",
      "0         Ardeidae                               Travelling        NaN  \n",
      "1         Ardeidae                               Travelling        NaN  \n",
      "2         Ardeidae                               Travelling        NaN  \n",
      "3         Ardeidae                               Travelling        NaN  \n",
      "4         Ardeidae                               Travelling        NaN  \n",
      "..             ...                                      ...        ...  \n",
      "511  Troglodytidae                                 Foraging        NaN  \n",
      "512  Troglodytidae                                  Resting        NaN  \n",
      "513  Troglodytidae                                 Foraging        NaN  \n",
      "514  Troglodytidae                                  Resting        NaN  \n",
      "515  Troglodytidae                               Travelling        NaN  \n",
      "\n",
      "[516 rows x 8 columns]\n"
     ]
    }
   ],
   "source": [
    "Path=\"/Users/lukenash1/Documents/Finance/Projects/Bird Data Regression/Lancs Behaviour Data Collated.csv\"\n",
    "df=pd.read_csv(Path)\n",
    "df=pd.DataFrame(df)\n",
    "print(df)"
   ]
  },
  {
   "cell_type": "markdown",
   "id": "17e6297c",
   "metadata": {},
   "source": [
    "The data cleaning that was done within Excel is described in the README, but we can now do some further cleaning here."
   ]
  },
  {
   "cell_type": "code",
   "execution_count": 60,
   "id": "1f072e24",
   "metadata": {},
   "outputs": [
    {
     "name": "stdout",
     "output_type": "stream",
     "text": [
      "      Time     Period Location  Species         Family    Activity\n",
      "0    12:27     Midday       LM  Bittern       Ardeidae  Travelling\n",
      "1    12:27     Midday       LM  Bittern       Ardeidae  Travelling\n",
      "2    12:12     Midday       LM  Bittern       Ardeidae  Travelling\n",
      "3    11:55     Midday       LM  Bittern       Ardeidae  Travelling\n",
      "4    12:00     Midday       LM  Bittern       Ardeidae  Travelling\n",
      "..     ...        ...      ...      ...            ...         ...\n",
      "511  12:11     Midday       EW     Wren  Troglodytidae    Foraging\n",
      "512  15:28  Afternoon       EW     Wren  Troglodytidae     Resting\n",
      "513  15:20  Afternoon       EW     Wren  Troglodytidae    Foraging\n",
      "514  15:40  Afternoon       EW     Wren  Troglodytidae     Resting\n",
      "515  12:10     Midday       EW     Wren  Troglodytidae  Travelling\n",
      "\n",
      "[516 rows x 6 columns]\n"
     ]
    }
   ],
   "source": [
    "#Rename columns\n",
    "new_col_names = {\"Species (common name as in the species list in the module guide - p25)\":\"Species\",\n",
    "                 \"Activity (travelling; foraging; resting)\":\"Activity\"}\n",
    "df.rename(columns= new_col_names, inplace=True)\n",
    "\n",
    "#Remove helper and unnamed column\n",
    "df_clean= df.drop(df.columns[[0,7]],axis=1)\n",
    "\n",
    "print(df_clean)"
   ]
  },
  {
   "cell_type": "markdown",
   "id": "199308ef",
   "metadata": {},
   "source": [
    "The research question doesn't focus on species or species family, so we can drop those temporarily, and the time period can be removed for the time being as well. However, I'd like to keep these so we can reintegrate them into the analysis later, should our model prove insufficient."
   ]
  },
  {
   "cell_type": "code",
   "execution_count": 61,
   "id": "3ca76518",
   "metadata": {},
   "outputs": [
    {
     "name": "stdout",
     "output_type": "stream",
     "text": [
      "      Time Location    Activity\n",
      "0    12:27       LM  Travelling\n",
      "1    12:27       LM  Travelling\n",
      "2    12:12       LM  Travelling\n",
      "3    11:55       LM  Travelling\n",
      "4    12:00       LM  Travelling\n",
      "..     ...      ...         ...\n",
      "511  12:11       EW    Foraging\n",
      "512  15:28       EW     Resting\n",
      "513  15:20       EW    Foraging\n",
      "514  15:40       EW     Resting\n",
      "515  12:10       EW  Travelling\n",
      "\n",
      "[516 rows x 3 columns]\n"
     ]
    }
   ],
   "source": [
    "#Drop columns\n",
    "\n",
    "cols= df_clean.columns #Needed for reindexing later, if necessary\n",
    "\n",
    "df_removed_cols= pd.concat([df_clean.pop(x) for x in ['Period','Species','Family']],axis=1)\n",
    "print(df_clean)"
   ]
  },
  {
   "cell_type": "markdown",
   "id": "f3e2ac72",
   "metadata": {},
   "source": [
    "Now we need to change the Activity variable to a multinomial factor by setting each category to an integer value (Travelling = 0, Foraging = 1 etc.)"
   ]
  },
  {
   "cell_type": "code",
   "execution_count": 62,
   "id": "6dc2e362",
   "metadata": {},
   "outputs": [
    {
     "name": "stdout",
     "output_type": "stream",
     "text": [
      "      Time Location  Activity\n",
      "0    12:27       LM         0\n",
      "1    12:27       LM         0\n",
      "2    12:12       LM         0\n",
      "3    11:55       LM         0\n",
      "4    12:00       LM         0\n",
      "..     ...      ...       ...\n",
      "511  12:11       EW         1\n",
      "512  15:28       EW         2\n",
      "513  15:20       EW         1\n",
      "514  15:40       EW         2\n",
      "515  12:10       EW         0\n",
      "\n",
      "[516 rows x 3 columns]\n"
     ]
    }
   ],
   "source": [
    "df_clean['Activity'].replace(['Travelling', 'Foraging', 'Resting'],\n",
    "                            [0, 1, 2], inplace= True)\n",
    "print(df_clean)"
   ]
  },
  {
   "cell_type": "markdown",
   "id": "5762b439",
   "metadata": {},
   "source": [
    "`pandas` imports the `Time` variable as a Series, so we need to convert it to type `datetime` before moving on."
   ]
  },
  {
   "cell_type": "code",
   "execution_count": 63,
   "id": "ccc0bdea",
   "metadata": {},
   "outputs": [
    {
     "name": "stdout",
     "output_type": "stream",
     "text": [
      "                   Time Location  Activity\n",
      "0   2023-09-10 12:27:00       LM         0\n",
      "1   2023-09-10 12:27:00       LM         0\n",
      "2   2023-09-10 12:12:00       LM         0\n",
      "3   2023-09-10 11:55:00       LM         0\n",
      "4   2023-09-10 12:00:00       LM         0\n",
      "..                  ...      ...       ...\n",
      "511 2023-09-10 12:11:00       EW         1\n",
      "512 2023-09-10 15:28:00       EW         2\n",
      "513 2023-09-10 15:20:00       EW         1\n",
      "514 2023-09-10 15:40:00       EW         2\n",
      "515 2023-09-10 12:10:00       EW         0\n",
      "\n",
      "[516 rows x 3 columns]\n"
     ]
    }
   ],
   "source": [
    "df_clean['Time']= pd.to_datetime(df_clean['Time'])\n",
    "print(df_clean)"
   ]
  },
  {
   "cell_type": "markdown",
   "id": "68baed4e",
   "metadata": {},
   "source": [
    "### Exploratory Data Analysis\n",
    "\n",
    "Now we can have a look at each of the variables to see whether they have an effect on behaviour. Let's start with time."
   ]
  },
  {
   "cell_type": "code",
   "execution_count": 9,
   "id": "407f7665",
   "metadata": {},
   "outputs": [
    {
     "data": {
      "image/png": "[encoded data removed]",
      "text/plain": [
       "<Figure size 640x480 with 1 Axes>"
      ]
     },
     "metadata": {},
     "output_type": "display_data"
    }
   ],
   "source": [
    "plot=sns.scatterplot(data=df_clean,x=\"Time\",y=\"Activity\",hue=\"Location\")\n",
    "plt.xlabel(\"Time\")\n",
    "plt.ylabel(\"Activity category\")\n",
    "plot.set_xticks(ticks=plot.get_xticks(),labels=([\"11:00\",\"12:00\",\"13:00\",\"14:00\",\"15:00\",\"16:00\",\"17:00\"]))\n",
    "plt.title(\"Activity level of birds at different times of day\")\n",
    "plt.legend(bbox_to_anchor=(1.02,1),loc=\"upper left\",borderaxespad=0)\n",
    "plt.show()"
   ]
  },
  {
   "cell_type": "markdown",
   "id": "9d7359ad",
   "metadata": {},
   "source": [
    "Each dot in the graph shows the activity type of a given bird at a given time, and two things immediately spring out:\n",
    "\n",
    "1. There are possibly some differences in activity type over time, especially in the afternoon, but the differences are likely minimal.\n",
    "2. The observations are split into two very discrete groups with only a small number of real outliers - this will be potentially useful later.\n",
    "\n",
    "Adding the `hue` argument also showed us something that will become important later: there is a stark difference in both the number and timespan of observations between both sites.\n",
    "\n",
    "Interpreting differences in behaviour between the locations is difficult with this plot, but, bearing the above in mind, now let's have a look at the location. For this we will import the Contingency table on the other sheet of the Excel file."
   ]
  },
  {
   "cell_type": "code",
   "execution_count": 11,
   "id": "fb1c8086",
   "metadata": {},
   "outputs": [
    {
     "data": {
      "image/png": "[encoded data removed]",
      "text/plain": [
       "<Figure size 640x480 with 1 Axes>"
      ]
     },
     "metadata": {},
     "output_type": "display_data"
    }
   ],
   "source": [
    "#Importing the data and preparing for plotting\n",
    "\n",
    "Path2= \"/Users/lukenash1/Documents/Finance/Projects/Bird Data Regression/Lancs Behaviour Data Contingency.csv\"\n",
    "df2= pd.read_csv(Path2)\n",
    "df2_clean= df2.drop(df2.columns [[1,5]],axis=1)\n",
    "group_list=[\"Resting\",\"Foraging\",\"Travelling\"]\n",
    "df2_barchart= df2.groupby('Location')[group_list].sum() #Generating sums grouped by Location and Behaviour\n",
    "df2_barchart= df2_barchart.reset_index() #Location was imported as the index, so we corrected this here\n",
    "df2_barchart= pd.melt(df2_barchart, id_vars=\"Location\",var_name=\"Behaviour\",value_name=\"Count\") #Changing the format to enable plotting\n",
    "\n",
    "#Creating the plot\n",
    "sns.barplot(data= df2_barchart, x= \"Location\", y=\"Count\",hue=\"Behaviour\",palette=\"muted\")\n",
    "plt.xlabel(\"Location\")\n",
    "plt.ylabel(\"Number of observations\")\n",
    "plt.title(\"Observations of each behaviour type by location\")\n",
    "plt.show()"
   ]
  },
  {
   "cell_type": "markdown",
   "id": "ce6dd2d8",
   "metadata": {},
   "source": [
    "The effect of this variable is much more stark: while the total number of observations at each site skews the absolute values, you can see that a higher relative proportion of the birds at Leighton Moss engaged in resting behaviour compared to those at Eaves Wood, and consequently the proportion of foraging birds was higher.\n",
    "\n",
    "### Model Construction and Evaluation\n",
    "\n",
    "We will now construct the model using the `LogisticRegression` function in the sklearn library."
   ]
  },
  {
   "cell_type": "code",
   "execution_count": 12,
   "id": "bec73e74",
   "metadata": {},
   "outputs": [],
   "source": [
    "model1= LogisticRegression(multi_class= \"multinomial\", solver=\"lbfgs\")"
   ]
  },
  {
   "cell_type": "markdown",
   "id": "35d62fd5",
   "metadata": {},
   "source": [
    "With MLR there are various model evaluation procedures you can do. The one I've chosen is **repeated stratified k-fold cross-validation**, becuase it not only mitigates (partially) the effect of the imbalance present in the relative sample sizes across the two sites, but also enables multiple assessments of accuracy on the same dataset.\n",
    "\n",
    "We can report the mean accuracy of each of the folds among all the repeats, and the standard deviation of these accuracy values.\n",
    "\n",
    "Let's define and implement the model evaluation procedure here now. For the moment we are going to use a common standard default of 3 repeats of 10 folds."
   ]
  },
  {
   "cell_type": "code",
   "execution_count": 51,
   "id": "3afef63d",
   "metadata": {},
   "outputs": [
    {
     "name": "stdout",
     "output_type": "stream",
     "text": [
      "Mean Accuracy: 0.369 (0.006)\n"
     ]
    }
   ],
   "source": [
    "#The following code needs all string values to be numerical, so we need to convert Location to numeric values...\n",
    "\n",
    "def column_convert(df,column_name):\n",
    "    c_array= df[column_name].values\n",
    "    uniques= np.unique(c_array)\n",
    "    map_to_int= {value: index for index, value in enumerate(uniques)}\n",
    "    df[column_name]= df[column_name].map(map_to_int)\n",
    "    return df\n",
    "\n",
    "#Converting the columns\n",
    "df_clean2 = df_clean.copy()\n",
    "column_convert(df_clean2,\"Location\")\n",
    "df_clean2[\"Time\"] = df_clean2[\"Time\"].astype(int)\n",
    "\n",
    "#Define inputs\n",
    "X1= df_clean2.iloc[:, [0,1]].values\n",
    "y1= np.array(df_clean2['Activity'])\n",
    "\n",
    "#Train-test split\n",
    "X1_train, X1_test, y1_train, y1_test = train_test_split(X1, y1, test_size = 0.20,shuffle=False)\n",
    "\n",
    "#Define evaluation procedure\n",
    "cv1= RepeatedStratifiedKFold(n_splits=10,n_repeats=3,random_state=1)\n",
    "\n",
    "#Implementation and evaluation\n",
    "M1_accuracy= cross_val_score(model1,X1_train,y1_train,scoring=\"accuracy\",cv=cv1,n_jobs=-1)\n",
    "print('Mean Accuracy: %.3f (%.3f)'% (mean(M1_accuracy), std(M1_accuracy)))"
   ]
  },
  {
   "cell_type": "markdown",
   "id": "b6103917",
   "metadata": {},
   "source": [
    "~37% accuracy is pretty poor, although the small standard deviation means our model is at least *predictably* poor, and suggests that increasing the number of repeats or folds is unlikely to improve our model much. It does also mean we can answer our research question of whether time of day and site location affect bird behaviour, as the poor accuracy means that the predictive power of the model for this dataset is low, which means that a given behaviour cannot be accurately predicted from time of day and location alone, meaning these covariates are unlikely to have a significant impact.\n",
    "\n",
    "So how can this model be improved instead? Well, we can now look at changing the model's construction.\n",
    "\n",
    "### Model Improvement\n",
    "\n",
    "There are two glaring issues with the protocol described above.\n",
    "\n",
    "1. The data set is fairly heavily imbalanced, mainly with respect to the Location variable, which will absolutely affect how the model learns the decision boundary.\n",
    "2. The scope of the research question prevents the inclusion of a potentially important covariate.\n",
    "\n",
    "Let's address the second point to start with.\n",
    "\n",
    "#### Parameter Selection\n",
    "\n",
    "We're going to reintroduce the taxonomic grouping of the bird as a potential covariate. It's worth noting that the Family and Species variables are hierarchical, so we're only going to consider the Species to avoid potential multicollinearity. Research on inter-familial and intra-familial differences in bird behaviour also seems to indicate inter-specific differences being more marked - Grandeiro et al. (2006), for instance, showed this in the *Charadriidae* and *Scopolacidae* families<sup>[1]</sup>, both of which have representatives featured in our research.\n",
    "\n",
    "Unfortunately, this does mean that we have to restart the data preparation process, including forming a new train-test split, which is not ideal as I would ideally want to compare the performance of the new dataset on the same data, but given how poorly our first model performed this is perhaps not a real issue."
   ]
  },
  {
   "cell_type": "code",
   "execution_count": 72,
   "id": "c4a3de63",
   "metadata": {},
   "outputs": [
    {
     "name": "stdout",
     "output_type": "stream",
     "text": [
      "                    Time  Location  Activity  Species\n",
      "0    1694348820000000000         0         0  Bittern\n",
      "1    1694348820000000000         0         0  Bittern\n",
      "2    1694347920000000000         0         0  Bittern\n",
      "3    1694346900000000000         0         0  Bittern\n",
      "4    1694347200000000000         0         0  Bittern\n",
      "..                   ...       ...       ...      ...\n",
      "511  1694347860000000000         1         1     Wren\n",
      "512  1694359680000000000         1         2     Wren\n",
      "513  1694359200000000000         1         1     Wren\n",
      "514  1694360400000000000         1         2     Wren\n",
      "515  1694347800000000000         1         0     Wren\n",
      "\n",
      "[516 rows x 4 columns]\n"
     ]
    }
   ],
   "source": [
    "#Reintegrating species and preparing the data for the model\n",
    "df_ps = df_clean.join(df_removed_cols)\n",
    "df_ps['Location'].replace(['LM','EW'],[0,1],inplace=True)\n",
    "df_ps[\"Time\"] = df_ps[\"Time\"].astype(int)\n",
    "df_ps= df_ps.drop([\"Period\",\"Family\"],axis=1)\n",
    "print(df_ps)"
   ]
  },
  {
   "cell_type": "markdown",
   "id": "3351f470",
   "metadata": {},
   "source": [
    "And now we just need to redefine the inputs, run the models on each of the outputs and compare the accuracies. We'll do this by defining an evaluation function, running each model evaluation and appending the results to an empty list which we can then plot using `pyplot`."
   ]
  },
  {
   "cell_type": "code",
   "execution_count": 85,
   "id": "ca6cafd5",
   "metadata": {
    "scrolled": true
   },
   "outputs": [
    {
     "name": "stdout",
     "output_type": "stream",
     "text": [
      "[[1694348820000000000                   0                   0]\n",
      " [1694348820000000000                   0                   0]\n",
      " [1694347920000000000                   0                   0]\n",
      " ...\n",
      " [1694359200000000000                   1                  69]\n",
      " [1694360400000000000                   1                  69]\n",
      " [1694347800000000000                   1                  69]]\n",
      "Model accuracy (with species parameter): 0.369 (0.006)\n"
     ]
    }
   ],
   "source": [
    "from scipy.stats import sem\n",
    "\n",
    "#Convert species column to integer values\n",
    "column_convert(df_ps,\"Species\")\n",
    "\n",
    "#Redefine inputs\n",
    "X2= df_ps.iloc[:, [0,1,3]].values\n",
    "y2= np.array(df_ps['Activity'])\n",
    "\n",
    "#Train-test split\n",
    "X2_train, X2_test, y2_train, y2_test = train_test_split(X2,y2,test_size=0.2,shuffle=False)\n",
    "\n",
    "#Defining the function\n",
    "def evaluate_input(val_X, val_Y):\n",
    "    cv= cv1\n",
    "    model= model1\n",
    "    scores= cross_val_score(model,val_X,val_Y,scoring=\"accuracy\",cv=cv,n_jobs=-1)\n",
    "    return scores\n",
    "\n",
    "#Results and model evaluation\n",
    "M2_scores= evaluate_input(X2_train,y2_train)\n",
    "print(f\"Model accuracy (with species parameter): {mean(M2_scores):.3f} ({std(M2_scores):.3f})\")"
   ]
  },
  {
   "cell_type": "markdown",
   "id": "85fddff8",
   "metadata": {},
   "source": [
    "Absolutely no improvement at all! For all future adjustments to the model we will include the Species as a covariate, although the increased error in the model accuracy in the Species model is a potentially important point to consider. \n",
    "\n",
    "Let's now move back to the first problem with our system as discussed earlier.\n",
    "\n",
    "#### Imbalance Correction\n",
    "\n",
    "We're going to use a procedure called **Synthetic Minority Oversampling TEchnique**, known more commonly as **SMOTE**. This procedure essentially oversamples minority classes in each predictor variable, thus mitigating the effects of the imbalance. Implementation is quite simple, but we will need the `imblearn` library."
   ]
  },
  {
   "cell_type": "code",
   "execution_count": 86,
   "id": "c0e27a1a",
   "metadata": {},
   "outputs": [
    {
     "name": "stdout",
     "output_type": "stream",
     "text": [
      "                    Time  Location  Activity  Species\n",
      "0    1694348820000000000         0         0        0\n",
      "1    1694348820000000000         0         0        0\n",
      "2    1694347920000000000         0         0        0\n",
      "3    1694346900000000000         0         0        0\n",
      "4    1694347200000000000         0         0        0\n",
      "..                   ...       ...       ...      ...\n",
      "511  1694347860000000000         1         1       69\n",
      "512  1694359680000000000         1         2       69\n",
      "513  1694359200000000000         1         1       69\n",
      "514  1694360400000000000         1         2       69\n",
      "515  1694347800000000000         1         0       69\n",
      "\n",
      "[516 rows x 4 columns]\n"
     ]
    }
   ],
   "source": [
    "print(df_ps)"
   ]
  },
  {
   "cell_type": "code",
   "execution_count": 87,
   "id": "f8660746",
   "metadata": {},
   "outputs": [
    {
     "name": "stdout",
     "output_type": "stream",
     "text": [
      "(                    Time  Location  Species\n",
      "0    1694348820000000000         0        0\n",
      "1    1694348820000000000         0        0\n",
      "2    1694347920000000000         0        0\n",
      "3    1694346900000000000         0        0\n",
      "4    1694347200000000000         0        0\n",
      "..                   ...       ...      ...\n",
      "553  1694346756714110976         1       58\n",
      "554  1694359654945935872         1        3\n",
      "555  1694359717977466624         1        3\n",
      "556  1694345606387779840         0       47\n",
      "557  1694349292666980864         0       44\n",
      "\n",
      "[558 rows x 3 columns],      Activity\n",
      "0           0\n",
      "1           0\n",
      "2           0\n",
      "3           0\n",
      "4           0\n",
      "..        ...\n",
      "553         0\n",
      "554         0\n",
      "555         0\n",
      "556         1\n",
      "557         1\n",
      "\n",
      "[558 rows x 1 columns])\n"
     ]
    }
   ],
   "source": [
    "from imblearn.over_sampling import SMOTE\n",
    "\n",
    "#Define inputs\n",
    "oversample= SMOTE()\n",
    "X3= df_ps.iloc[:,[0,1,3]]\n",
    "y3= df_ps.iloc[:,[2]]\n",
    "\n",
    "#Checking oversampling\n",
    "df_SMOTE= oversample.fit_resample(X3,y3)\n",
    "print(df_SMOTE)"
   ]
  },
  {
   "cell_type": "markdown",
   "id": "48fcb221",
   "metadata": {},
   "source": [
    "The length of our data frame has increased by just over 40 samples!\n",
    "\n",
    "However, the authors of [the original paper introducing SMOTE](https://arxiv.org/abs/1106.1813) say that it's best combined with a method which randomly undersamples the majority class<sup>[2]</sup>. Fortuitously, `imblearn` has a function that helps us do that. To implement SMOTE and random undersampling on the same dataset, you join them together in one process called a *pipeline*. Here's how we do that."
   ]
  },
  {
   "cell_type": "code",
   "execution_count": 88,
   "id": "39bd362a",
   "metadata": {},
   "outputs": [],
   "source": [
    "from imblearn.under_sampling import RandomUnderSampler\n",
    "from imblearn.pipeline import Pipeline\n",
    "\n",
    "#Pipeline creation\n",
    "over= SMOTE()\n",
    "under= RandomUnderSampler()\n",
    "steps= [('o', over),('u',under),('model',model1)]\n",
    "pipeline= Pipeline(steps=steps)"
   ]
  },
  {
   "cell_type": "markdown",
   "id": "01c98ff5",
   "metadata": {},
   "source": [
    "We now use the pipeline in our model evaluation, as shown below."
   ]
  },
  {
   "cell_type": "code",
   "execution_count": 89,
   "id": "925fc179",
   "metadata": {},
   "outputs": [
    {
     "name": "stdout",
     "output_type": "stream",
     "text": [
      "Mean Accuracy: 0.283 (0.007)\n"
     ]
    }
   ],
   "source": [
    "#Evaluating model with SMOTE and random undersampling\n",
    "\n",
    "y3= np.array(y3)\n",
    "M3_accuracy= cross_val_score(pipeline, X3, y3, scoring=\"accuracy\",cv=cv1, n_jobs=-1)\n",
    "print('Mean Accuracy: %.3f (%.3f)'% (mean(M3_accuracy), std(M3_accuracy)))"
   ]
  },
  {
   "cell_type": "markdown",
   "id": "01c2e1d4",
   "metadata": {},
   "source": [
    "That didn't go especially well, with our accuracy ***decreasing*** down to a pathetic ~28%. Let's see if doing one of each of the practices (instead of both of them) improves our previous best of 42%."
   ]
  },
  {
   "cell_type": "code",
   "execution_count": 92,
   "id": "b2fc1801",
   "metadata": {},
   "outputs": [
    {
     "name": "stdout",
     "output_type": "stream",
     "text": [
      "SMOTE only: 0.283 (0.007), Undersampling Only: 0.283 (0.007), Both Procedures: 0.283 (0.007), No sampling adjustment: 0.369 (0.006)\n"
     ]
    }
   ],
   "source": [
    "#Define the pipelines\n",
    "steps_over= [('o',over),('model',model1)]\n",
    "steps_under= [('u',under),('model',model1)]\n",
    "pipeline_over= Pipeline(steps=steps_over)\n",
    "pipeline_under= Pipeline(steps=steps_under)\n",
    "\n",
    "#Define pipeline evaluation function\n",
    "\n",
    "def evaluate_pipeline(pipeline_input):\n",
    "    cv=cv1\n",
    "    X= X3\n",
    "    y= np.array(y3)\n",
    "    scores= cross_val_score(pipeline_input,X,y,scoring=\"accuracy\",cv=cv1,n_jobs=-1)\n",
    "    return scores\n",
    "\n",
    "#Evaluate pipelines and compare to other tactics\n",
    "M_over_scores= evaluate_pipeline(pipeline_over)\n",
    "M_under_scores= evaluate_pipeline(pipeline_under)\n",
    "print('SMOTE only: %.3f (%.3f), Undersampling Only: %.3f (%.3f), Both Procedures: %.3f (%.3f), No sampling adjustment: %.3f (%.3f)'% \n",
    "      (mean(M_over_scores),std(M_over_scores),mean(M_under_scores),std(M_under_scores),\n",
    "       mean(M3_accuracy), std(M3_accuracy),mean(M2_scores),std(M2_scores)))"
   ]
  },
  {
   "cell_type": "markdown",
   "id": "51cb4920",
   "metadata": {},
   "source": [
    "As you may have noticed, with all the models regardless of their construction, the standard deviations in the accuracy scores are relatively high (~15-20% of the mean) across the board. Generally, when accuracy estimates have a high degree of variation, the sample size used in building the model is too small. Small sample sizes severely impacts a model's predictive accuracy because the model doesn't have enough data to be trained properly and thus can't make accurate predictions.\n",
    "\n",
    "Ordinarily, I would go out and collect more data until the variation is reduced to a much lower amount and then perform further analyses; however, the scenario in question means that there is no more available data. \n",
    "\n",
    "The low number in general also leads me to believe that the data quality is poor. The README in the [GitHub repository for this project](https://github.com/LukeNash28/Bird-Data-Regression) goes into some details about some flaws in the protocol for collecting data involved in this analysis, as well as some covariates that could not be/were not accounted for in the collection.\n",
    "\n",
    "### Conclusion\n",
    "\n",
    "While the data quality and other issues with the collection protocol certainly mitigate the effectiveness of the model built during this analysis, this exercise was still useful in that it illustrated how machine learning techniques such as multinomial logistic regression can be used in ecology analytics. A classification algorithm with better quality data could be used to generate predictions about the classification of a categorical variable (e.g. a bird's behaviour) when all the other significant covariates are known, and the applications of models with high predictive power are extensive and far-reaching in the field of ecology. Consequently, further development of classification machine learning models is an extremely worthwhile potential avenue of investigation.\n",
    "\n",
    "#### *References*\n",
    "\n",
    "[1] Grandeiro, J., Dias, M., Martins, R. & Palmeirim, J., 2006. Variation in numbers and behaviour of waders during the tidal cycle: implications for the use of estuarine sediment flats. *Acta Oecologica*, Volume 29, pp. 293-300.\n",
    "\n",
    "[2] Chawla, N.V., Bowyer, K.W., Hall, L.O. & Kegelmeyer, W.P., 2002. SMOTE: Synthetic Minority Over-sampling Technique. *Journal of Artificial Intelligence Research*, Volume 16, pp. 321-357."
   ]
  }
 ],
 "metadata": {
  "kernelspec": {
   "display_name": "Python 3 (ipykernel)",
   "language": "python",
   "name": "python3"
  },
  "language_info": {
   "codemirror_mode": {
    "name": "ipython",
    "version": 3
   },
   "file_extension": ".py",
   "mimetype": "text/x-python",
   "name": "python",
   "nbconvert_exporter": "python",
   "pygments_lexer": "ipython3",
   "version": "3.11.4"
  }
 },
 "nbformat": 4,
 "nbformat_minor": 5
}
