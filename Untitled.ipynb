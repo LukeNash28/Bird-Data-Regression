{
 "cells": [
  {
   "cell_type": "markdown",
   "id": "a0502821",
   "metadata": {},
   "source": [
    "## Factors Affecting Bird Behaviour - Regression Modelling in Python"
   ]
  },
  {
   "cell_type": "markdown",
   "id": "2e7fb636",
   "metadata": {},
   "source": [
    "### Introduction\n",
    "\n",
    "As part of a university field trip to the Silverdale Area of Outstanding Natural Beauty, our cohort collected data about bird behaviour at two sites at various times of day. You can view the data itself in the Excel file in the [Bird Data Regression repository on my GitHub] along with a README with more information.\n",
    "\n",
    "Given the data I had available I decided to assess whether the Location or the time period (Midday/Afternoon) affected bird behaviour (Activity). I decided to build a multinomial logistic regression model\n",
    "\n",
    "### Data Preparation\n",
    "\n",
    "First let's import the packages and functions we need to complete this analysis."
   ]
  },
  {
   "cell_type": "code",
   "execution_count": 6,
   "id": "7ba94bc9",
   "metadata": {},
   "outputs": [],
   "source": [
    "import pandas as pd\n",
    "import numpy as np\n",
    "import sklearn\n",
    "import seaborn as sns\n",
    "\n",
    "from numpy import mean\n",
    "from numpy import std\n",
    "from sklearn.model_selection import cross_val_score\n",
    "from sklearn.model_selection import RepeatedStratifiedKFold\n",
    "from sklearn.linear_model import LogisticRegression\n",
    "\n",
    "sns.set(style=\"white\")\n",
    "sns.set(style=\"whitegrid\", color_codes=\"True\")"
   ]
  },
  {
   "cell_type": "markdown",
   "id": "cd447a5a",
   "metadata": {},
   "source": [
    "Now let's import the data."
   ]
  },
  {
   "cell_type": "code",
   "execution_count": null,
   "id": "cba5fabb",
   "metadata": {},
   "outputs": [],
   "source": []
  }
 ],
 "metadata": {
  "kernelspec": {
   "display_name": "Python 3 (ipykernel)",
   "language": "python",
   "name": "python3"
  },
  "language_info": {
   "codemirror_mode": {
    "name": "ipython",
    "version": 3
   },
   "file_extension": ".py",
   "mimetype": "text/x-python",
   "name": "python",
   "nbconvert_exporter": "python",
   "pygments_lexer": "ipython3",
   "version": "3.11.4"
  }
 },
 "nbformat": 4,
 "nbformat_minor": 5
}
